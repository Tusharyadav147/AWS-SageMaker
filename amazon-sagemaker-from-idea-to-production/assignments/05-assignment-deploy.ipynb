{
 "cells": [
  {
   "cell_type": "markdown",
   "id": "6c699c04-d2d4-4480-955d-60c264e19997",
   "metadata": {},
   "source": [
    "# Assignment 5: Create a model deployment CI/CD pipeline\n",
    "In this assignment you implement a model deployment pipeline. \n",
    "\n",
    "There are many possible patterns how you can deploy ML models into production. These patterns are dependent on your environment, for example, use of multi-account structures, testing and approval workflows, number and type of environment stages. In this lab you implement a simple single-account model deployment. However, it has all main elements of a real-world deployment pipeline, such as an automated CI/CD process, model unit testing, a two-stage deployment with a test and a production stages, and an additional approval before deployment into production.\n",
    "\n",
    "To provision all required infrastructure and components into your AWS account, you use again a built-in [MLOps Project template](https://docs.aws.amazon.com/sagemaker/latest/dg/sagemaker-projects-templates.html).\n",
    "\n",
    "The following diagram shows the end-to-end architecture of the composed CI/CD pipeline comprising a model building and a model deployment pipelines.\n",
    "\n",
    "![](../img/cicd-project-e2e.png)\n",
    "\n",
    "The left part of the diagram, is a **model building pipeline**, which you provisioned and configured in the previous notebook. In this notebook, you are going to provision the right part, a **model deployment pipeline**. These two pipelines are connected via the Model Registry. The model building pipeline registers a new version of the model after a successful execution of the pipeline. To launch the model deployment pipeline, you must approve the model version in the Model Registry. The model deployment pipeline first deploys the approved model version into a staging environment, runs model unit tests, and waits for a manual approval. After you approve the **DeployStaging** stage of the CI/CD pipeline, the pipeline continues and deploys the model into a production environment.\n",
    "\n",
    "The model deployment project follows Infrastructure as Code (IaC) approach by using [AWS Cloud Formation](https://aws.amazon.com/cloudformation/) templates for model deployment. The project also deploys a source code repository with inference endpoint configuration and model unit test code.\n",
    "\n",
    "Refer to the notebook [`05-deploy.ipynb`](../05-deploy.ipynb) for code snippets and a general guidance for the exercises in this assignment."
   ]
  },
  {
   "cell_type": "markdown",
   "id": "12b0f975-75f5-4d87-a156-4b08fe4197c9",
   "metadata": {},
   "source": [
    "## Import packages"
   ]
  },
  {
   "cell_type": "code",
   "execution_count": null,
   "id": "7c10502e-86c0-4e67-a12f-cafff96eea50",
   "metadata": {},
   "outputs": [],
   "source": [
    "import boto3\n",
    "import sagemaker \n",
    "from time import gmtime, strftime, sleep"
   ]
  },
  {
   "cell_type": "markdown",
   "id": "9bbf8f7d-32d5-4cdb-85f3-4f073fb9a880",
   "metadata": {},
   "source": [
    "## Exercise 1: Create a model deployment project\n",
    "You can re-use code from [`05-deploy.ipynb`](../05-deploy.ipynb) notebook to programmatically create a project using Python SDK `boto3`.\n",
    "\n",
    "Alternatively you can provision a new project via Studio UX."
   ]
  },
  {
   "cell_type": "code",
   "execution_count": null,
   "id": "1f62d97d-8228-4df4-9c3d-f8ba3ae0aa80",
   "metadata": {},
   "outputs": [],
   "source": [
    "# Get project details after you created the project\n",
    "# project_name = <YOUR PROJECT NAME>\n",
    "# sm.describe_project(ProjectName=project_name)"
   ]
  },
  {
   "cell_type": "markdown",
   "id": "109a0b1e-1d9f-4212-8879-df76ddd77e5c",
   "metadata": {},
   "source": [
    "## Exercise 2: Explore project components\n",
    "The SageMaker MLOps project provisions an end-to-end CI/CD model deployment pipeline in your AWS account:\n",
    "\n",
    "![](../img/mlops-model-deploy-2.png)\n",
    "\n",
    "The main components are:\n",
    "1. An AWS CodeCommit repository with configuration, testing, and workflow code\n",
    "2. An AWS CodePipeline deployment pipeline with four stages\n",
    "3. An Amazon EventBridge rule to launch a CodePipeline pipeline execution when a model package version is approved or rejected\n",
    "4. A manual approval step after the model unit tests to deploy the production inference endpoint\n",
    "\n",
    "Explore each of the pipeline components in AWS console."
   ]
  },
  {
   "cell_type": "markdown",
   "id": "70af03c4-bdf1-4e08-9ab5-222aed317a50",
   "metadata": {},
   "source": [
    "### AWS CodeCommit repository\n",
    "[Clone](https://docs.aws.amazon.com/sagemaker/latest/dg/sagemaker-projects-walkthrough.html#sagemaker-proejcts-walkthrough-clone) the project code repository to the Studio home directory and explore the source code. Navigate to the project folder on Studio file system.\n",
    "\n",
    "The `README.md` file provides a detailed overview of the repository structure and the description of each file. The main components of the source code:\n",
    "- Two build stages each with own `buildspec.yml` file: for retrieving the latest approved model package and building the configuration files, and for unit tests\n",
    "- Two Python scripts `build.py` and `test/test.py` with executable code for each of the build stages\n",
    "- A CloudFormation template `endpoint-config-template.yml` for IaC model deployment as real-time inference endpoints\n",
    "- Two configuration files `staging-config.json` and `prod-config.json`. Pipeline's deployment steps use these files to configure parameters of the inference endpoints, such as compute instance type, data capture configuration, tags\n",
    "\n",
    "The MLOps project implements only one possible approach for an automated deployment pipeline. You can implement a different approach using a different technology stack depending on your specific environment. You can still use SageMaker Project templates to package any components and technology stack to create a pre-defined CI/CD pipeline templates."
   ]
  },
  {
   "cell_type": "markdown",
   "id": "7bbf72bc-8490-4682-b009-dc6ac4ecb384",
   "metadata": {},
   "source": [
    "### AWS CodePipeline pipeline\n",
    "Open [AWS CodePipeline console](https://console.aws.amazon.com/codesuite/codepipeline/pipelines) and explore the model deployment pipeline named `sagemaker-<project-name>-<project-id>-modeldeploy`. There are four stages in the pipeline. Explore the transitions between stages and artifacts created by each stage.\n",
    "\n",
    "For example, explore the build stage. Navigate to [AWS CodeBuild console](https://console.aws.amazon.com/codesuite/codebuild/projects) and open a build project with the name `sagemaker-<project-name>-<project-id>-modeldeploy`, open **Environment variables** pane. You can see the environment variables set by the MLOps project template:\n",
    "\n",
    "![](../img/codebuild-env-variables.png)\n",
    "\n",
    "Open the `build.py` file in the project folder. Explore the execution flow and how the implementation uses the passed arguments to set configuration parameters and to create the configuration files.\n",
    "\n",
    "Explore **DeployStaging** stage of the CodePipeline pipeline. Click on the pipeline name in the pipeline list and then click on \"i\" icon next to **DeployResourceStaging** action of the **DeployStaging** stage. You see how the CloudFormation deploy action is configured:\n",
    "\n",
    "![](../img/deploystaging-config.png)\n",
    "\n",
    "Open the `/test/test.py` file in the project folder. Explore how the endpoint tests are done. You can implement `invoke_endpoint` function and send a payload to the endpoint to test it.\n",
    "\n",
    "Continue exploring other stages of the pipeline, such as manual approval, deployment of the production endpoint."
   ]
  },
  {
   "cell_type": "markdown",
   "id": "ef523532-63de-4012-9706-5c496f908e37",
   "metadata": {},
   "source": [
    "### Amazon EventBridge rule\n",
    "Navigate to the rules in the EventBridge [console](https://console.aws.amazon.com/events/home?#/rules) and find rules with the names `sagemaker-<project-name>-<project-id>-code` and `sagemaker-<project-name>-<project-id>-model`. The first rule `...-code` launches the pipeline on each push into the source code repository. The second rule `...-model` launches the pipeline on any model package state change, see the **Event pattern**:\n",
    "\n",
    "```\n",
    "{\n",
    "  \"detail-type\": [\"SageMaker Model Package State Change\"],\n",
    "  \"source\": [\"aws.sagemaker\"],\n",
    "  \"detail\": {\n",
    "    \"ModelPackageGroupName\": [\"from-idea-to-prod-model-group\"]\n",
    "  }\n",
    "}\n",
    "```"
   ]
  },
  {
   "cell_type": "markdown",
   "id": "f29e2f3e-5add-4836-8e0c-658b1d2c1ebb",
   "metadata": {},
   "source": [
    "## Exercise 3: Execute the model deployment pipeline\n",
    "To launch the deployment pipeline you need to approve a model version in the model registry. \n",
    "\n",
    "You can approve the model version either in Studio UX in the Model registry or do it programmatically in the notebook.\n",
    "\n",
    "Follow the pipeline execution in [AWS CodePipeline console](https://console.aws.amazon.com/codesuite/codepipeline/pipelines). After the pipeline deployed the staging inference endpoint, manually approve the deployment of the production endpoint. See the [`05-deploy.ipynb`](../05-deploy.ipynb) notebook for instructions.\n",
    "\n",
    "Verify that you have two `InService` endpoints after a successful completion of the deployment pipeline:\n",
    "\n",
    "<img src=\"../img/endpoint-prod.png\" width=\"400\"/>"
   ]
  },
  {
   "cell_type": "markdown",
   "id": "36f6b139-25d0-4e85-b95e-d775bb4a8052",
   "metadata": {},
   "source": [
    "## Continue with the assignment 6\n",
    "Navigate to the [assignment 6](06-assignment-monitoring.ipynb) notebook."
   ]
  },
  {
   "cell_type": "code",
   "execution_count": null,
   "id": "ad5d2a4f-da70-4f52-aca9-2bcfcb25e90f",
   "metadata": {},
   "outputs": [],
   "source": []
  }
 ],
 "metadata": {
  "instance_type": "ml.t3.medium",
  "kernelspec": {
   "display_name": "Python 3 (Data Science)",
   "language": "python",
   "name": "python3__SAGEMAKER_INTERNAL__arn:aws:sagemaker:us-east-1:081325390199:image/datascience-1.0"
  },
  "language_info": {
   "codemirror_mode": {
    "name": "ipython",
    "version": 3
   },
   "file_extension": ".py",
   "mimetype": "text/x-python",
   "name": "python",
   "nbconvert_exporter": "python",
   "pygments_lexer": "ipython3",
   "version": "3.7.10"
  }
 },
 "nbformat": 4,
 "nbformat_minor": 5
}
