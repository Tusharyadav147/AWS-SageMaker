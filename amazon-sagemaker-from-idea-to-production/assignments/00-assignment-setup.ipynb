{
 "cells": [
  {
   "cell_type": "markdown",
   "id": "8443fc4d-a88a-4da6-bd55-761b478fcb30",
   "metadata": {},
   "source": [
    "# Assignment: setup\n",
    "This series of the notebooks takes you through assignments while you're following ML development process using Amazon SageMaker MLOps building blocks. \n",
    "\n",
    "The assignments are based on the provided notebooks and you can use the code in the notebooks to complete exercises.\n",
    "\n",
    "Refer to the notebook [`00-start-here.ipynb`](../00-start-here.ipynb) for code snippets and a general guidance for the exercises in this assignment."
   ]
  },
  {
   "cell_type": "markdown",
   "id": "b82d3164-e32f-4479-afa9-edbc24f02bf6",
   "metadata": {},
   "source": [
    "## Import packages"
   ]
  },
  {
   "cell_type": "code",
   "execution_count": null,
   "id": "941c4a49-6f46-4b7e-9b54-88358253994e",
   "metadata": {},
   "outputs": [],
   "source": [
    "import time\n",
    "import os\n",
    "import json\n",
    "import boto3\n",
    "import numpy as np  \n",
    "import pandas as pd \n",
    "import sagemaker\n",
    "\n",
    "sagemaker.__version__"
   ]
  },
  {
   "cell_type": "markdown",
   "id": "8cbac2a5-0505-4932-8a86-23db4ccfdf87",
   "metadata": {},
   "source": [
    "## Exercise 1: AWS and SageMaker environment\n",
    "- Instantiate a [sagemaker session](https://sagemaker.readthedocs.io/en/stable/api/utility/session.html)\n",
    "- Get the name of the default bucket to use in relevant Amazon SageMaker interactions\n",
    "- Get the SageMaker execution role\n",
    "- Get the AWS region\n",
    "- Instantiate a boto3 [sagemaker client](https://boto3.amazonaws.com/v1/documentation/api/latest/reference/services/sagemaker.html)\n"
   ]
  },
  {
   "cell_type": "code",
   "execution_count": null,
   "id": "a27e9a06-ec1c-4be3-ae14-21ea3a3b2129",
   "metadata": {},
   "outputs": [],
   "source": [
    "# Exercise 1 - write code here\n"
   ]
  },
  {
   "cell_type": "markdown",
   "id": "5278c09d-ed09-47fc-aa1c-3d7838ac847d",
   "metadata": {},
   "source": [
    "## Exercise 2: Studio environment\n",
    "- Explore the notebook metadata file `/opt/ml/metadata/resource-metadata.json`\n",
    "- Get the SageMaker `domain_id`\n",
    "- Get the Studio user profile name\n",
    "- Get the notebook image name"
   ]
  },
  {
   "cell_type": "code",
   "execution_count": null,
   "id": "862581ca-0bf7-4cd5-9e92-6e5302269820",
   "metadata": {},
   "outputs": [],
   "source": [
    "# Exercise 2 - write code here\n",
    "NOTEBOOK_METADATA_FILE = \"/opt/ml/metadata/resource-metadata.json\"\n"
   ]
  },
  {
   "cell_type": "markdown",
   "id": "6cb23d06-5aa8-462e-a7f5-de3ee6c385ae",
   "metadata": {},
   "source": [
    "## Exercise 3: Data\n",
    "- Download a dataset. You can use your own dataset and download it from your local storage or from internet\n",
    "- Load data into a Pandas dataframe and view the data"
   ]
  },
  {
   "cell_type": "code",
   "execution_count": null,
   "id": "bc5863cd-9d79-43df-ab64-ee39cc3e3fed",
   "metadata": {},
   "outputs": [],
   "source": [
    "!wget -P data/ -N https://archive.ics.uci.edu/ml/machine-learning-databases/00222/bank-additional.zip"
   ]
  },
  {
   "cell_type": "code",
   "execution_count": null,
   "id": "e9a9ee59-291a-46e2-8798-93a169b67332",
   "metadata": {},
   "outputs": [],
   "source": [
    "# Exercise 3 - write code here\n",
    "# df_data = pd.read_csv()"
   ]
  },
  {
   "cell_type": "markdown",
   "id": "652c62f4-2913-455c-9a4d-479947339f28",
   "metadata": {},
   "source": [
    "## Continue with the assignment 1\n",
    "Navigate to the [assignment 1](01-assignment-local-development.ipynb) notebook."
   ]
  }
 ],
 "metadata": {
  "instance_type": "ml.t3.medium",
  "kernelspec": {
   "display_name": "Python 3 (Data Science)",
   "language": "python",
   "name": "python3__SAGEMAKER_INTERNAL__arn:aws:sagemaker:us-east-1:081325390199:image/datascience-1.0"
  },
  "language_info": {
   "codemirror_mode": {
    "name": "ipython",
    "version": 3
   },
   "file_extension": ".py",
   "mimetype": "text/x-python",
   "name": "python",
   "nbconvert_exporter": "python",
   "pygments_lexer": "ipython3",
   "version": "3.7.10"
  }
 },
 "nbformat": 4,
 "nbformat_minor": 5
}
